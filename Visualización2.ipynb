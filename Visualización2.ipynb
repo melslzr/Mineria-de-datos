{
 "cells": [
  {
   "cell_type": "markdown",
   "metadata": {},
   "source": [
    "# Mariann Adaliz Avila Rios 1811303\n",
    "# Melany Salazar Mata 1679234\n",
    "# Magaly Rivera Valdez 1823340"
   ]
  },
  {
   "cell_type": "markdown",
   "metadata": {},
   "source": [
    "### Librerias"
   ]
  },
  {
   "cell_type": "code",
   "execution_count": 26,
   "metadata": {},
   "outputs": [],
   "source": [
    "import pandas as pd\n",
    "import numpy as np\n",
    "import json\n",
    "import matplotlib as plt\n",
    "import seaborn as sns"
   ]
  },
  {
   "cell_type": "markdown",
   "metadata": {},
   "source": [
    "### Base de datos"
   ]
  },
  {
   "cell_type": "code",
   "execution_count": 2,
   "metadata": {},
   "outputs": [
    {
     "data": {
      "text/html": [
       "<div>\n",
       "<style scoped>\n",
       "    .dataframe tbody tr th:only-of-type {\n",
       "        vertical-align: middle;\n",
       "    }\n",
       "\n",
       "    .dataframe tbody tr th {\n",
       "        vertical-align: top;\n",
       "    }\n",
       "\n",
       "    .dataframe thead th {\n",
       "        text-align: right;\n",
       "    }\n",
       "</style>\n",
       "<table border=\"1\" class=\"dataframe\">\n",
       "  <thead>\n",
       "    <tr style=\"text-align: right;\">\n",
       "      <th></th>\n",
       "      <th>Year</th>\n",
       "      <th>Country / territory of asylum/residence</th>\n",
       "      <th>Location Name</th>\n",
       "      <th>Female 0-4</th>\n",
       "      <th>Female 5-11</th>\n",
       "      <th>Female 5-17</th>\n",
       "      <th>Female 12-17</th>\n",
       "      <th>Female 18-59</th>\n",
       "      <th>Female 60+</th>\n",
       "      <th>F: Unknown</th>\n",
       "      <th>F: Total</th>\n",
       "      <th>Male 0-4</th>\n",
       "      <th>Male 5-11</th>\n",
       "      <th>Male 5-17</th>\n",
       "      <th>Male 12-17</th>\n",
       "      <th>Male 18-59</th>\n",
       "      <th>Male 60+</th>\n",
       "      <th>M: Unknown</th>\n",
       "      <th>M: Total</th>\n",
       "    </tr>\n",
       "  </thead>\n",
       "  <tbody>\n",
       "    <tr>\n",
       "      <th>0</th>\n",
       "      <td>2001</td>\n",
       "      <td>Afghanistan</td>\n",
       "      <td>Kabul</td>\n",
       "      <td>0</td>\n",
       "      <td>NaN</td>\n",
       "      <td>1.0</td>\n",
       "      <td>NaN</td>\n",
       "      <td>1</td>\n",
       "      <td>0</td>\n",
       "      <td>0.0</td>\n",
       "      <td>2</td>\n",
       "      <td>0</td>\n",
       "      <td>NaN</td>\n",
       "      <td>0.0</td>\n",
       "      <td>NaN</td>\n",
       "      <td>2</td>\n",
       "      <td>0</td>\n",
       "      <td>0.0</td>\n",
       "      <td>2</td>\n",
       "    </tr>\n",
       "    <tr>\n",
       "      <th>1</th>\n",
       "      <td>2001</td>\n",
       "      <td>Afghanistan</td>\n",
       "      <td>Various</td>\n",
       "      <td>14335</td>\n",
       "      <td>NaN</td>\n",
       "      <td>45451.0</td>\n",
       "      <td>NaN</td>\n",
       "      <td>99880</td>\n",
       "      <td>19234</td>\n",
       "      <td>412004.0</td>\n",
       "      <td>590904</td>\n",
       "      <td>14716</td>\n",
       "      <td>NaN</td>\n",
       "      <td>47522.0</td>\n",
       "      <td>NaN</td>\n",
       "      <td>114965</td>\n",
       "      <td>13025</td>\n",
       "      <td>435492.0</td>\n",
       "      <td>625720</td>\n",
       "    </tr>\n",
       "    <tr>\n",
       "      <th>2</th>\n",
       "      <td>2001</td>\n",
       "      <td>Afghanistan</td>\n",
       "      <td>Herat</td>\n",
       "      <td>0</td>\n",
       "      <td>NaN</td>\n",
       "      <td>0.0</td>\n",
       "      <td>NaN</td>\n",
       "      <td>1</td>\n",
       "      <td>0</td>\n",
       "      <td>0.0</td>\n",
       "      <td>1</td>\n",
       "      <td>0</td>\n",
       "      <td>NaN</td>\n",
       "      <td>0.0</td>\n",
       "      <td>NaN</td>\n",
       "      <td>1</td>\n",
       "      <td>0</td>\n",
       "      <td>0.0</td>\n",
       "      <td>1</td>\n",
       "    </tr>\n",
       "    <tr>\n",
       "      <th>3</th>\n",
       "      <td>2001</td>\n",
       "      <td>Angola</td>\n",
       "      <td>Viana</td>\n",
       "      <td>484</td>\n",
       "      <td>NaN</td>\n",
       "      <td>1687.0</td>\n",
       "      <td>NaN</td>\n",
       "      <td>1282</td>\n",
       "      <td>43</td>\n",
       "      <td>0.0</td>\n",
       "      <td>3496</td>\n",
       "      <td>597</td>\n",
       "      <td>NaN</td>\n",
       "      <td>1645.0</td>\n",
       "      <td>NaN</td>\n",
       "      <td>787</td>\n",
       "      <td>34</td>\n",
       "      <td>0.0</td>\n",
       "      <td>3063</td>\n",
       "    </tr>\n",
       "    <tr>\n",
       "      <th>4</th>\n",
       "      <td>2001</td>\n",
       "      <td>Angola</td>\n",
       "      <td>Moxico</td>\n",
       "      <td>219</td>\n",
       "      <td>NaN</td>\n",
       "      <td>734.0</td>\n",
       "      <td>NaN</td>\n",
       "      <td>427</td>\n",
       "      <td>25</td>\n",
       "      <td>0.0</td>\n",
       "      <td>1405</td>\n",
       "      <td>226</td>\n",
       "      <td>NaN</td>\n",
       "      <td>711.0</td>\n",
       "      <td>NaN</td>\n",
       "      <td>139</td>\n",
       "      <td>15</td>\n",
       "      <td>0.0</td>\n",
       "      <td>1091</td>\n",
       "    </tr>\n",
       "    <tr>\n",
       "      <th>...</th>\n",
       "      <td>...</td>\n",
       "      <td>...</td>\n",
       "      <td>...</td>\n",
       "      <td>...</td>\n",
       "      <td>...</td>\n",
       "      <td>...</td>\n",
       "      <td>...</td>\n",
       "      <td>...</td>\n",
       "      <td>...</td>\n",
       "      <td>...</td>\n",
       "      <td>...</td>\n",
       "      <td>...</td>\n",
       "      <td>...</td>\n",
       "      <td>...</td>\n",
       "      <td>...</td>\n",
       "      <td>...</td>\n",
       "      <td>...</td>\n",
       "      <td>...</td>\n",
       "      <td>...</td>\n",
       "    </tr>\n",
       "    <tr>\n",
       "      <th>18351</th>\n",
       "      <td>2016</td>\n",
       "      <td>Zambia</td>\n",
       "      <td>Mayukwayukwa : Point</td>\n",
       "      <td>983</td>\n",
       "      <td>1456</td>\n",
       "      <td>NaN</td>\n",
       "      <td>934</td>\n",
       "      <td>2878</td>\n",
       "      <td>157</td>\n",
       "      <td>NaN</td>\n",
       "      <td>6408</td>\n",
       "      <td>982</td>\n",
       "      <td>1416</td>\n",
       "      <td>NaN</td>\n",
       "      <td>903</td>\n",
       "      <td>3202</td>\n",
       "      <td>326</td>\n",
       "      <td>NaN</td>\n",
       "      <td>6829</td>\n",
       "    </tr>\n",
       "    <tr>\n",
       "      <th>18352</th>\n",
       "      <td>2016</td>\n",
       "      <td>Zambia</td>\n",
       "      <td>Meheba : Point</td>\n",
       "      <td>1248</td>\n",
       "      <td>2364</td>\n",
       "      <td>NaN</td>\n",
       "      <td>1598</td>\n",
       "      <td>4182</td>\n",
       "      <td>300</td>\n",
       "      <td>NaN</td>\n",
       "      <td>9692</td>\n",
       "      <td>1205</td>\n",
       "      <td>2367</td>\n",
       "      <td>NaN</td>\n",
       "      <td>1693</td>\n",
       "      <td>4963</td>\n",
       "      <td>467</td>\n",
       "      <td>NaN</td>\n",
       "      <td>10695</td>\n",
       "    </tr>\n",
       "    <tr>\n",
       "      <th>18353</th>\n",
       "      <td>2016</td>\n",
       "      <td>Zambia</td>\n",
       "      <td>Zambia : Dispersed in the country / territory</td>\n",
       "      <td>637</td>\n",
       "      <td>1444</td>\n",
       "      <td>NaN</td>\n",
       "      <td>979</td>\n",
       "      <td>2712</td>\n",
       "      <td>400</td>\n",
       "      <td>NaN</td>\n",
       "      <td>6172</td>\n",
       "      <td>602</td>\n",
       "      <td>1314</td>\n",
       "      <td>NaN</td>\n",
       "      <td>1018</td>\n",
       "      <td>2786</td>\n",
       "      <td>512</td>\n",
       "      <td>NaN</td>\n",
       "      <td>6232</td>\n",
       "    </tr>\n",
       "    <tr>\n",
       "      <th>18354</th>\n",
       "      <td>2016</td>\n",
       "      <td>Zimbabwe</td>\n",
       "      <td>Harare : City</td>\n",
       "      <td>220</td>\n",
       "      <td>117</td>\n",
       "      <td>NaN</td>\n",
       "      <td>82</td>\n",
       "      <td>296</td>\n",
       "      <td>11</td>\n",
       "      <td>NaN</td>\n",
       "      <td>726</td>\n",
       "      <td>204</td>\n",
       "      <td>115</td>\n",
       "      <td>NaN</td>\n",
       "      <td>91</td>\n",
       "      <td>432</td>\n",
       "      <td>11</td>\n",
       "      <td>NaN</td>\n",
       "      <td>853</td>\n",
       "    </tr>\n",
       "    <tr>\n",
       "      <th>18355</th>\n",
       "      <td>2016</td>\n",
       "      <td>Zimbabwe</td>\n",
       "      <td>Manicaland : Province</td>\n",
       "      <td>496</td>\n",
       "      <td>769</td>\n",
       "      <td>NaN</td>\n",
       "      <td>525</td>\n",
       "      <td>1450</td>\n",
       "      <td>58</td>\n",
       "      <td>NaN</td>\n",
       "      <td>3298</td>\n",
       "      <td>462</td>\n",
       "      <td>829</td>\n",
       "      <td>NaN</td>\n",
       "      <td>604</td>\n",
       "      <td>1688</td>\n",
       "      <td>42</td>\n",
       "      <td>NaN</td>\n",
       "      <td>3625</td>\n",
       "    </tr>\n",
       "  </tbody>\n",
       "</table>\n",
       "<p>18356 rows × 19 columns</p>\n",
       "</div>"
      ],
      "text/plain": [
       "       Year Country / territory of asylum/residence  \\\n",
       "0      2001                             Afghanistan   \n",
       "1      2001                             Afghanistan   \n",
       "2      2001                             Afghanistan   \n",
       "3      2001                                  Angola   \n",
       "4      2001                                  Angola   \n",
       "...     ...                                     ...   \n",
       "18351  2016                                  Zambia   \n",
       "18352  2016                                  Zambia   \n",
       "18353  2016                                  Zambia   \n",
       "18354  2016                                Zimbabwe   \n",
       "18355  2016                                Zimbabwe   \n",
       "\n",
       "                                       Location Name Female 0-4 Female 5-11  \\\n",
       "0                                              Kabul          0         NaN   \n",
       "1                                            Various      14335         NaN   \n",
       "2                                              Herat          0         NaN   \n",
       "3                                              Viana        484         NaN   \n",
       "4                                             Moxico        219         NaN   \n",
       "...                                              ...        ...         ...   \n",
       "18351                           Mayukwayukwa : Point        983        1456   \n",
       "18352                                 Meheba : Point       1248        2364   \n",
       "18353  Zambia : Dispersed in the country / territory        637        1444   \n",
       "18354                                  Harare : City        220         117   \n",
       "18355                          Manicaland : Province        496         769   \n",
       "\n",
       "       Female 5-17 Female 12-17 Female 18-59 Female 60+  F: Unknown F: Total  \\\n",
       "0              1.0          NaN            1          0         0.0        2   \n",
       "1          45451.0          NaN        99880      19234    412004.0   590904   \n",
       "2              0.0          NaN            1          0         0.0        1   \n",
       "3           1687.0          NaN         1282         43         0.0     3496   \n",
       "4            734.0          NaN          427         25         0.0     1405   \n",
       "...            ...          ...          ...        ...         ...      ...   \n",
       "18351          NaN          934         2878        157         NaN     6408   \n",
       "18352          NaN         1598         4182        300         NaN     9692   \n",
       "18353          NaN          979         2712        400         NaN     6172   \n",
       "18354          NaN           82          296         11         NaN      726   \n",
       "18355          NaN          525         1450         58         NaN     3298   \n",
       "\n",
       "      Male 0-4 Male 5-11  Male 5-17 Male 12-17 Male 18-59 Male 60+  \\\n",
       "0            0       NaN        0.0        NaN          2        0   \n",
       "1        14716       NaN    47522.0        NaN     114965    13025   \n",
       "2            0       NaN        0.0        NaN          1        0   \n",
       "3          597       NaN     1645.0        NaN        787       34   \n",
       "4          226       NaN      711.0        NaN        139       15   \n",
       "...        ...       ...        ...        ...        ...      ...   \n",
       "18351      982      1416        NaN        903       3202      326   \n",
       "18352     1205      2367        NaN       1693       4963      467   \n",
       "18353      602      1314        NaN       1018       2786      512   \n",
       "18354      204       115        NaN         91        432       11   \n",
       "18355      462       829        NaN        604       1688       42   \n",
       "\n",
       "       M: Unknown M: Total  \n",
       "0             0.0        2  \n",
       "1        435492.0   625720  \n",
       "2             0.0        1  \n",
       "3             0.0     3063  \n",
       "4             0.0     1091  \n",
       "...           ...      ...  \n",
       "18351         NaN     6829  \n",
       "18352         NaN    10695  \n",
       "18353         NaN     6232  \n",
       "18354         NaN      853  \n",
       "18355         NaN     3625  \n",
       "\n",
       "[18356 rows x 19 columns]"
      ]
     },
     "execution_count": 2,
     "metadata": {},
     "output_type": "execute_result"
    }
   ],
   "source": [
    "an = pd.read_csv(\"C:/Users/melan/Desktop/Doc/Mineria de Datos/Bases de datos/demographics.csv\")\n",
    "\n",
    "an"
   ]
  },
  {
   "cell_type": "code",
   "execution_count": 3,
   "metadata": {},
   "outputs": [
    {
     "data": {
      "text/plain": [
       "Year                                         int64\n",
       "Country / territory of asylum/residence     object\n",
       "Location Name                               object\n",
       "Female 0-4                                  object\n",
       "Female 5-11                                 object\n",
       "Female 5-17                                float64\n",
       "Female 12-17                                object\n",
       "Female 18-59                                object\n",
       "Female 60+                                  object\n",
       "F: Unknown                                 float64\n",
       "F: Total                                    object\n",
       "Male 0-4                                    object\n",
       "Male 5-11                                   object\n",
       "Male 5-17                                  float64\n",
       "Male 12-17                                  object\n",
       "Male 18-59                                  object\n",
       "Male 60+                                    object\n",
       "M: Unknown                                 float64\n",
       "M: Total                                    object\n",
       "dtype: object"
      ]
     },
     "execution_count": 3,
     "metadata": {},
     "output_type": "execute_result"
    }
   ],
   "source": [
    "an.dtypes"
   ]
  },
  {
   "cell_type": "code",
   "execution_count": 4,
   "metadata": {},
   "outputs": [
    {
     "data": {
      "text/html": [
       "<div>\n",
       "<style scoped>\n",
       "    .dataframe tbody tr th:only-of-type {\n",
       "        vertical-align: middle;\n",
       "    }\n",
       "\n",
       "    .dataframe tbody tr th {\n",
       "        vertical-align: top;\n",
       "    }\n",
       "\n",
       "    .dataframe thead th {\n",
       "        text-align: right;\n",
       "    }\n",
       "</style>\n",
       "<table border=\"1\" class=\"dataframe\">\n",
       "  <thead>\n",
       "    <tr style=\"text-align: right;\">\n",
       "      <th></th>\n",
       "      <th>Year</th>\n",
       "      <th>Country / territory of asylum/residence</th>\n",
       "      <th>Location Name</th>\n",
       "      <th>Female 0-4</th>\n",
       "      <th>Female 5-11</th>\n",
       "      <th>Female 5-17</th>\n",
       "      <th>Female 12-17</th>\n",
       "      <th>Female 18-59</th>\n",
       "      <th>Female 60+</th>\n",
       "      <th>F: Unknown</th>\n",
       "      <th>F: Total</th>\n",
       "      <th>Male 0-4</th>\n",
       "      <th>Male 5-11</th>\n",
       "      <th>Male 5-17</th>\n",
       "      <th>Male 12-17</th>\n",
       "      <th>Male 18-59</th>\n",
       "      <th>Male 60+</th>\n",
       "      <th>M: Unknown</th>\n",
       "      <th>M: Total</th>\n",
       "    </tr>\n",
       "  </thead>\n",
       "  <tbody>\n",
       "    <tr>\n",
       "      <th>count</th>\n",
       "      <td>18356.000000</td>\n",
       "      <td>18356</td>\n",
       "      <td>18355</td>\n",
       "      <td>17083</td>\n",
       "      <td>13927</td>\n",
       "      <td>3196.000000</td>\n",
       "      <td>13949</td>\n",
       "      <td>17694</td>\n",
       "      <td>16900</td>\n",
       "      <td>1.249300e+04</td>\n",
       "      <td>18356</td>\n",
       "      <td>17075</td>\n",
       "      <td>13950</td>\n",
       "      <td>3196.000000</td>\n",
       "      <td>13986</td>\n",
       "      <td>17920</td>\n",
       "      <td>16986</td>\n",
       "      <td>1.250000e+04</td>\n",
       "      <td>18356</td>\n",
       "    </tr>\n",
       "    <tr>\n",
       "      <th>unique</th>\n",
       "      <td>NaN</td>\n",
       "      <td>191</td>\n",
       "      <td>5901</td>\n",
       "      <td>2435</td>\n",
       "      <td>2632</td>\n",
       "      <td>NaN</td>\n",
       "      <td>2283</td>\n",
       "      <td>3989</td>\n",
       "      <td>1353</td>\n",
       "      <td>NaN</td>\n",
       "      <td>5405</td>\n",
       "      <td>2447</td>\n",
       "      <td>2657</td>\n",
       "      <td>NaN</td>\n",
       "      <td>2340</td>\n",
       "      <td>3999</td>\n",
       "      <td>1350</td>\n",
       "      <td>NaN</td>\n",
       "      <td>5503</td>\n",
       "    </tr>\n",
       "    <tr>\n",
       "      <th>top</th>\n",
       "      <td>NaN</td>\n",
       "      <td>Pakistan</td>\n",
       "      <td>Goure</td>\n",
       "      <td>0</td>\n",
       "      <td>0</td>\n",
       "      <td>NaN</td>\n",
       "      <td>0</td>\n",
       "      <td>0</td>\n",
       "      <td>0</td>\n",
       "      <td>NaN</td>\n",
       "      <td>0</td>\n",
       "      <td>0</td>\n",
       "      <td>0</td>\n",
       "      <td>NaN</td>\n",
       "      <td>0</td>\n",
       "      <td>0</td>\n",
       "      <td>0</td>\n",
       "      <td>NaN</td>\n",
       "      <td>1</td>\n",
       "    </tr>\n",
       "    <tr>\n",
       "      <th>freq</th>\n",
       "      <td>NaN</td>\n",
       "      <td>1082</td>\n",
       "      <td>13</td>\n",
       "      <td>4215</td>\n",
       "      <td>2795</td>\n",
       "      <td>NaN</td>\n",
       "      <td>2926</td>\n",
       "      <td>1979</td>\n",
       "      <td>4897</td>\n",
       "      <td>NaN</td>\n",
       "      <td>1624</td>\n",
       "      <td>4179</td>\n",
       "      <td>2762</td>\n",
       "      <td>NaN</td>\n",
       "      <td>2805</td>\n",
       "      <td>1309</td>\n",
       "      <td>4646</td>\n",
       "      <td>NaN</td>\n",
       "      <td>761</td>\n",
       "    </tr>\n",
       "    <tr>\n",
       "      <th>mean</th>\n",
       "      <td>2010.314339</td>\n",
       "      <td>NaN</td>\n",
       "      <td>NaN</td>\n",
       "      <td>NaN</td>\n",
       "      <td>NaN</td>\n",
       "      <td>1449.903317</td>\n",
       "      <td>NaN</td>\n",
       "      <td>NaN</td>\n",
       "      <td>NaN</td>\n",
       "      <td>2.658836e+03</td>\n",
       "      <td>NaN</td>\n",
       "      <td>NaN</td>\n",
       "      <td>NaN</td>\n",
       "      <td>1536.136108</td>\n",
       "      <td>NaN</td>\n",
       "      <td>NaN</td>\n",
       "      <td>NaN</td>\n",
       "      <td>2.742023e+03</td>\n",
       "      <td>NaN</td>\n",
       "    </tr>\n",
       "    <tr>\n",
       "      <th>std</th>\n",
       "      <td>4.386318</td>\n",
       "      <td>NaN</td>\n",
       "      <td>NaN</td>\n",
       "      <td>NaN</td>\n",
       "      <td>NaN</td>\n",
       "      <td>11492.117177</td>\n",
       "      <td>NaN</td>\n",
       "      <td>NaN</td>\n",
       "      <td>NaN</td>\n",
       "      <td>5.783491e+04</td>\n",
       "      <td>NaN</td>\n",
       "      <td>NaN</td>\n",
       "      <td>NaN</td>\n",
       "      <td>12276.757111</td>\n",
       "      <td>NaN</td>\n",
       "      <td>NaN</td>\n",
       "      <td>NaN</td>\n",
       "      <td>6.055912e+04</td>\n",
       "      <td>NaN</td>\n",
       "    </tr>\n",
       "    <tr>\n",
       "      <th>min</th>\n",
       "      <td>2001.000000</td>\n",
       "      <td>NaN</td>\n",
       "      <td>NaN</td>\n",
       "      <td>NaN</td>\n",
       "      <td>NaN</td>\n",
       "      <td>0.000000</td>\n",
       "      <td>NaN</td>\n",
       "      <td>NaN</td>\n",
       "      <td>NaN</td>\n",
       "      <td>0.000000e+00</td>\n",
       "      <td>NaN</td>\n",
       "      <td>NaN</td>\n",
       "      <td>NaN</td>\n",
       "      <td>0.000000</td>\n",
       "      <td>NaN</td>\n",
       "      <td>NaN</td>\n",
       "      <td>NaN</td>\n",
       "      <td>0.000000e+00</td>\n",
       "      <td>NaN</td>\n",
       "    </tr>\n",
       "    <tr>\n",
       "      <th>25%</th>\n",
       "      <td>2007.000000</td>\n",
       "      <td>NaN</td>\n",
       "      <td>NaN</td>\n",
       "      <td>NaN</td>\n",
       "      <td>NaN</td>\n",
       "      <td>1.000000</td>\n",
       "      <td>NaN</td>\n",
       "      <td>NaN</td>\n",
       "      <td>NaN</td>\n",
       "      <td>0.000000e+00</td>\n",
       "      <td>NaN</td>\n",
       "      <td>NaN</td>\n",
       "      <td>NaN</td>\n",
       "      <td>1.000000</td>\n",
       "      <td>NaN</td>\n",
       "      <td>NaN</td>\n",
       "      <td>NaN</td>\n",
       "      <td>0.000000e+00</td>\n",
       "      <td>NaN</td>\n",
       "    </tr>\n",
       "    <tr>\n",
       "      <th>50%</th>\n",
       "      <td>2011.000000</td>\n",
       "      <td>NaN</td>\n",
       "      <td>NaN</td>\n",
       "      <td>NaN</td>\n",
       "      <td>NaN</td>\n",
       "      <td>38.000000</td>\n",
       "      <td>NaN</td>\n",
       "      <td>NaN</td>\n",
       "      <td>NaN</td>\n",
       "      <td>0.000000e+00</td>\n",
       "      <td>NaN</td>\n",
       "      <td>NaN</td>\n",
       "      <td>NaN</td>\n",
       "      <td>44.000000</td>\n",
       "      <td>NaN</td>\n",
       "      <td>NaN</td>\n",
       "      <td>NaN</td>\n",
       "      <td>0.000000e+00</td>\n",
       "      <td>NaN</td>\n",
       "    </tr>\n",
       "    <tr>\n",
       "      <th>75%</th>\n",
       "      <td>2014.000000</td>\n",
       "      <td>NaN</td>\n",
       "      <td>NaN</td>\n",
       "      <td>NaN</td>\n",
       "      <td>NaN</td>\n",
       "      <td>696.000000</td>\n",
       "      <td>NaN</td>\n",
       "      <td>NaN</td>\n",
       "      <td>NaN</td>\n",
       "      <td>0.000000e+00</td>\n",
       "      <td>NaN</td>\n",
       "      <td>NaN</td>\n",
       "      <td>NaN</td>\n",
       "      <td>724.000000</td>\n",
       "      <td>NaN</td>\n",
       "      <td>NaN</td>\n",
       "      <td>NaN</td>\n",
       "      <td>0.000000e+00</td>\n",
       "      <td>NaN</td>\n",
       "    </tr>\n",
       "    <tr>\n",
       "      <th>max</th>\n",
       "      <td>2016.000000</td>\n",
       "      <td>NaN</td>\n",
       "      <td>NaN</td>\n",
       "      <td>NaN</td>\n",
       "      <td>NaN</td>\n",
       "      <td>401884.000000</td>\n",
       "      <td>NaN</td>\n",
       "      <td>NaN</td>\n",
       "      <td>NaN</td>\n",
       "      <td>2.933164e+06</td>\n",
       "      <td>NaN</td>\n",
       "      <td>NaN</td>\n",
       "      <td>NaN</td>\n",
       "      <td>434058.000000</td>\n",
       "      <td>NaN</td>\n",
       "      <td>NaN</td>\n",
       "      <td>NaN</td>\n",
       "      <td>3.065738e+06</td>\n",
       "      <td>NaN</td>\n",
       "    </tr>\n",
       "  </tbody>\n",
       "</table>\n",
       "</div>"
      ],
      "text/plain": [
       "                Year Country / territory of asylum/residence Location Name  \\\n",
       "count   18356.000000                                   18356         18355   \n",
       "unique           NaN                                     191          5901   \n",
       "top              NaN                                Pakistan         Goure   \n",
       "freq             NaN                                    1082            13   \n",
       "mean     2010.314339                                     NaN           NaN   \n",
       "std         4.386318                                     NaN           NaN   \n",
       "min      2001.000000                                     NaN           NaN   \n",
       "25%      2007.000000                                     NaN           NaN   \n",
       "50%      2011.000000                                     NaN           NaN   \n",
       "75%      2014.000000                                     NaN           NaN   \n",
       "max      2016.000000                                     NaN           NaN   \n",
       "\n",
       "       Female 0-4 Female 5-11    Female 5-17 Female 12-17 Female 18-59  \\\n",
       "count       17083       13927    3196.000000        13949        17694   \n",
       "unique       2435        2632            NaN         2283         3989   \n",
       "top             0           0            NaN            0            0   \n",
       "freq         4215        2795            NaN         2926         1979   \n",
       "mean          NaN         NaN    1449.903317          NaN          NaN   \n",
       "std           NaN         NaN   11492.117177          NaN          NaN   \n",
       "min           NaN         NaN       0.000000          NaN          NaN   \n",
       "25%           NaN         NaN       1.000000          NaN          NaN   \n",
       "50%           NaN         NaN      38.000000          NaN          NaN   \n",
       "75%           NaN         NaN     696.000000          NaN          NaN   \n",
       "max           NaN         NaN  401884.000000          NaN          NaN   \n",
       "\n",
       "       Female 60+    F: Unknown F: Total Male 0-4 Male 5-11      Male 5-17  \\\n",
       "count       16900  1.249300e+04    18356    17075     13950    3196.000000   \n",
       "unique       1353           NaN     5405     2447      2657            NaN   \n",
       "top             0           NaN        0        0         0            NaN   \n",
       "freq         4897           NaN     1624     4179      2762            NaN   \n",
       "mean          NaN  2.658836e+03      NaN      NaN       NaN    1536.136108   \n",
       "std           NaN  5.783491e+04      NaN      NaN       NaN   12276.757111   \n",
       "min           NaN  0.000000e+00      NaN      NaN       NaN       0.000000   \n",
       "25%           NaN  0.000000e+00      NaN      NaN       NaN       1.000000   \n",
       "50%           NaN  0.000000e+00      NaN      NaN       NaN      44.000000   \n",
       "75%           NaN  0.000000e+00      NaN      NaN       NaN     724.000000   \n",
       "max           NaN  2.933164e+06      NaN      NaN       NaN  434058.000000   \n",
       "\n",
       "       Male 12-17 Male 18-59 Male 60+    M: Unknown M: Total  \n",
       "count       13986      17920    16986  1.250000e+04    18356  \n",
       "unique       2340       3999     1350           NaN     5503  \n",
       "top             0          0        0           NaN        1  \n",
       "freq         2805       1309     4646           NaN      761  \n",
       "mean          NaN        NaN      NaN  2.742023e+03      NaN  \n",
       "std           NaN        NaN      NaN  6.055912e+04      NaN  \n",
       "min           NaN        NaN      NaN  0.000000e+00      NaN  \n",
       "25%           NaN        NaN      NaN  0.000000e+00      NaN  \n",
       "50%           NaN        NaN      NaN  0.000000e+00      NaN  \n",
       "75%           NaN        NaN      NaN  0.000000e+00      NaN  \n",
       "max           NaN        NaN      NaN  3.065738e+06      NaN  "
      ]
     },
     "execution_count": 4,
     "metadata": {},
     "output_type": "execute_result"
    }
   ],
   "source": [
    "an.describe(include=\"all\")"
   ]
  },
  {
   "cell_type": "markdown",
   "metadata": {},
   "source": [
    "En las siguientes instrucciones iniciaremos con algunas de las opciones que maneja Pandas para la estadística básica, como por ejemplo:\n",
    "\n",
    "###### sum(): Suma todos los elementos de la columna seleccionada.\n",
    "###### mean(): Promedio.\n",
    "###### cumsum(): Suma acumulada de la columna fila por fila.\n",
    "###### describe(): Resumen estadístico de la columna.\n",
    "###### count(): Cuantos elementos no nulos hay en la columna.\n",
    "###### min(), max(): Minimo y máximo de una columna.\n",
    "###### median(), var(), std(): Mediana, varianza y desviación estandar.\n",
    "###### skew(): Valor de asimetría en los datos.\n",
    "###### kurt(): Característica de forma de su distribución de frecuencias/probabilidad.\n",
    "###### corr(): Correlación de los datos\n",
    "###### cov(): Covarianza de los datos."
   ]
  },
  {
   "cell_type": "code",
   "execution_count": 5,
   "metadata": {},
   "outputs": [
    {
     "data": {
      "text/plain": [
       "4633891.0"
      ]
     },
     "execution_count": 5,
     "metadata": {},
     "output_type": "execute_result"
    }
   ],
   "source": [
    "# Suma de las mujeres de entre 5 y 17 años con asilo\n",
    "an[\"Female 5-17\"].sum()"
   ]
  },
  {
   "cell_type": "code",
   "execution_count": 6,
   "metadata": {},
   "outputs": [
    {
     "data": {
      "text/plain": [
       "1449.9033166458073"
      ]
     },
     "execution_count": 6,
     "metadata": {},
     "output_type": "execute_result"
    }
   ],
   "source": [
    "# Promedio de las mujeres de entre 5 y 17 años con asilo\n",
    "an[\"Female 5-17\"].mean()"
   ]
  },
  {
   "cell_type": "code",
   "execution_count": 7,
   "metadata": {},
   "outputs": [
    {
     "data": {
      "text/plain": [
       "0            1.0\n",
       "1        45452.0\n",
       "2        45452.0\n",
       "3        47139.0\n",
       "4        47873.0\n",
       "          ...   \n",
       "18351        NaN\n",
       "18352        NaN\n",
       "18353        NaN\n",
       "18354        NaN\n",
       "18355        NaN\n",
       "Name: Female 5-17, Length: 18356, dtype: float64"
      ]
     },
     "execution_count": 7,
     "metadata": {},
     "output_type": "execute_result"
    }
   ],
   "source": [
    "# Suma acumulada de las columnas de las mujeres de entre 5 y 17 años con asilo\n",
    "an[\"Female 5-17\"].cumsum()"
   ]
  },
  {
   "cell_type": "code",
   "execution_count": 8,
   "metadata": {},
   "outputs": [
    {
     "data": {
      "text/plain": [
       "count      3196.000000\n",
       "mean       1449.903317\n",
       "std       11492.117177\n",
       "min           0.000000\n",
       "25%           1.000000\n",
       "50%          38.000000\n",
       "75%         696.000000\n",
       "max      401884.000000\n",
       "Name: Female 5-17, dtype: float64"
      ]
     },
     "execution_count": 8,
     "metadata": {},
     "output_type": "execute_result"
    }
   ],
   "source": [
    "# Resumen estadistico de las mujeres de entre 5 y 17 años con asilo\n",
    "an[\"Female 5-17\"].describe()"
   ]
  },
  {
   "cell_type": "code",
   "execution_count": 9,
   "metadata": {},
   "outputs": [
    {
     "data": {
      "text/plain": [
       "3196"
      ]
     },
     "execution_count": 9,
     "metadata": {},
     "output_type": "execute_result"
    }
   ],
   "source": [
    "# Cuantos elementos no nulos hay en la columna de mujeres de entre 5 y 17 años\n",
    "an[\"Female 5-17\"].count()"
   ]
  },
  {
   "cell_type": "code",
   "execution_count": 10,
   "metadata": {},
   "outputs": [
    {
     "data": {
      "text/plain": [
       "0.0"
      ]
     },
     "execution_count": 10,
     "metadata": {},
     "output_type": "execute_result"
    }
   ],
   "source": [
    "# Mínimo de las mujeres que piden asilo entre 5 y 17 años\n",
    "an[\"Female 5-17\"].min()"
   ]
  },
  {
   "cell_type": "code",
   "execution_count": 11,
   "metadata": {},
   "outputs": [
    {
     "data": {
      "text/plain": [
       "401884.0"
      ]
     },
     "execution_count": 11,
     "metadata": {},
     "output_type": "execute_result"
    }
   ],
   "source": [
    "# Maximo de las mujeres que piden asilo entre 5 y 17 años\n",
    "an[\"Female 5-17\"].max()"
   ]
  },
  {
   "cell_type": "code",
   "execution_count": 12,
   "metadata": {},
   "outputs": [
    {
     "data": {
      "text/plain": [
       "38.0"
      ]
     },
     "execution_count": 12,
     "metadata": {},
     "output_type": "execute_result"
    }
   ],
   "source": [
    "# Mediana de las mujeres que piden asilo entre 5 y 17 años\n",
    "an[\"Female 5-17\"].median()"
   ]
  },
  {
   "cell_type": "code",
   "execution_count": 13,
   "metadata": {},
   "outputs": [
    {
     "data": {
      "text/plain": [
       "132068757.21913207"
      ]
     },
     "execution_count": 13,
     "metadata": {},
     "output_type": "execute_result"
    }
   ],
   "source": [
    "# Varianza de las mujeres que piden asilo entre 5 y 17 años\n",
    "an[\"Female 5-17\"].var()"
   ]
  },
  {
   "cell_type": "code",
   "execution_count": 14,
   "metadata": {},
   "outputs": [
    {
     "data": {
      "text/plain": [
       "11492.117177401737"
      ]
     },
     "execution_count": 14,
     "metadata": {},
     "output_type": "execute_result"
    }
   ],
   "source": [
    "# Desviacion estandar de las mujeres que piden asilo entre 5 y 17 años\n",
    "an[\"Female 5-17\"].std()"
   ]
  },
  {
   "cell_type": "code",
   "execution_count": 15,
   "metadata": {},
   "outputs": [
    {
     "data": {
      "text/plain": [
       "25.05554981710425"
      ]
     },
     "execution_count": 15,
     "metadata": {},
     "output_type": "execute_result"
    }
   ],
   "source": [
    "# Valor de asimetria de las mujeres que piden asilo entre 5 y 17 años\n",
    "an[\"Female 5-17\"].skew()"
   ]
  },
  {
   "cell_type": "code",
   "execution_count": 16,
   "metadata": {},
   "outputs": [
    {
     "data": {
      "text/plain": [
       "715.3807829043293"
      ]
     },
     "execution_count": 16,
     "metadata": {},
     "output_type": "execute_result"
    }
   ],
   "source": [
    "an[\"Female 5-17\"].kurt()"
   ]
  },
  {
   "cell_type": "code",
   "execution_count": 17,
   "metadata": {},
   "outputs": [
    {
     "data": {
      "text/html": [
       "<div>\n",
       "<style scoped>\n",
       "    .dataframe tbody tr th:only-of-type {\n",
       "        vertical-align: middle;\n",
       "    }\n",
       "\n",
       "    .dataframe tbody tr th {\n",
       "        vertical-align: top;\n",
       "    }\n",
       "\n",
       "    .dataframe thead th {\n",
       "        text-align: right;\n",
       "    }\n",
       "</style>\n",
       "<table border=\"1\" class=\"dataframe\">\n",
       "  <thead>\n",
       "    <tr style=\"text-align: right;\">\n",
       "      <th></th>\n",
       "      <th>Year</th>\n",
       "      <th>Female 5-17</th>\n",
       "      <th>F: Unknown</th>\n",
       "      <th>Male 5-17</th>\n",
       "      <th>M: Unknown</th>\n",
       "    </tr>\n",
       "  </thead>\n",
       "  <tbody>\n",
       "    <tr>\n",
       "      <th>Year</th>\n",
       "      <td>1.000000</td>\n",
       "      <td>-0.005840</td>\n",
       "      <td>-0.017842</td>\n",
       "      <td>-0.005600</td>\n",
       "      <td>-0.018090</td>\n",
       "    </tr>\n",
       "    <tr>\n",
       "      <th>Female 5-17</th>\n",
       "      <td>-0.005840</td>\n",
       "      <td>1.000000</td>\n",
       "      <td>0.671178</td>\n",
       "      <td>0.998504</td>\n",
       "      <td>0.668875</td>\n",
       "    </tr>\n",
       "    <tr>\n",
       "      <th>F: Unknown</th>\n",
       "      <td>-0.017842</td>\n",
       "      <td>0.671178</td>\n",
       "      <td>1.000000</td>\n",
       "      <td>0.680610</td>\n",
       "      <td>0.998060</td>\n",
       "    </tr>\n",
       "    <tr>\n",
       "      <th>Male 5-17</th>\n",
       "      <td>-0.005600</td>\n",
       "      <td>0.998504</td>\n",
       "      <td>0.680610</td>\n",
       "      <td>1.000000</td>\n",
       "      <td>0.678058</td>\n",
       "    </tr>\n",
       "    <tr>\n",
       "      <th>M: Unknown</th>\n",
       "      <td>-0.018090</td>\n",
       "      <td>0.668875</td>\n",
       "      <td>0.998060</td>\n",
       "      <td>0.678058</td>\n",
       "      <td>1.000000</td>\n",
       "    </tr>\n",
       "  </tbody>\n",
       "</table>\n",
       "</div>"
      ],
      "text/plain": [
       "                 Year  Female 5-17  F: Unknown  Male 5-17  M: Unknown\n",
       "Year         1.000000    -0.005840   -0.017842  -0.005600   -0.018090\n",
       "Female 5-17 -0.005840     1.000000    0.671178   0.998504    0.668875\n",
       "F: Unknown  -0.017842     0.671178    1.000000   0.680610    0.998060\n",
       "Male 5-17   -0.005600     0.998504    0.680610   1.000000    0.678058\n",
       "M: Unknown  -0.018090     0.668875    0.998060   0.678058    1.000000"
      ]
     },
     "execution_count": 17,
     "metadata": {},
     "output_type": "execute_result"
    }
   ],
   "source": [
    "#Correlacion de las mujeres que piden asilo entre 5 y 17 años\n",
    "an.corr()"
   ]
  },
  {
   "cell_type": "code",
   "execution_count": 18,
   "metadata": {},
   "outputs": [
    {
     "data": {
      "text/html": [
       "<div>\n",
       "<style scoped>\n",
       "    .dataframe tbody tr th:only-of-type {\n",
       "        vertical-align: middle;\n",
       "    }\n",
       "\n",
       "    .dataframe tbody tr th {\n",
       "        vertical-align: top;\n",
       "    }\n",
       "\n",
       "    .dataframe thead th {\n",
       "        text-align: right;\n",
       "    }\n",
       "</style>\n",
       "<table border=\"1\" class=\"dataframe\">\n",
       "  <thead>\n",
       "    <tr style=\"text-align: right;\">\n",
       "      <th></th>\n",
       "      <th>Year</th>\n",
       "      <th>Female 5-17</th>\n",
       "      <th>F: Unknown</th>\n",
       "      <th>Male 5-17</th>\n",
       "      <th>M: Unknown</th>\n",
       "    </tr>\n",
       "  </thead>\n",
       "  <tbody>\n",
       "    <tr>\n",
       "      <th>Year</th>\n",
       "      <td>19.239786</td>\n",
       "      <td>-9.467167e+01</td>\n",
       "      <td>-4.554480e+03</td>\n",
       "      <td>-9.686779e+01</td>\n",
       "      <td>-4.838546e+03</td>\n",
       "    </tr>\n",
       "    <tr>\n",
       "      <th>Female 5-17</th>\n",
       "      <td>-94.671668</td>\n",
       "      <td>1.320688e+08</td>\n",
       "      <td>4.718891e+08</td>\n",
       "      <td>1.410922e+08</td>\n",
       "      <td>5.168099e+08</td>\n",
       "    </tr>\n",
       "    <tr>\n",
       "      <th>F: Unknown</th>\n",
       "      <td>-4554.480117</td>\n",
       "      <td>4.718891e+08</td>\n",
       "      <td>3.344877e+09</td>\n",
       "      <td>5.111567e+08</td>\n",
       "      <td>3.503894e+09</td>\n",
       "    </tr>\n",
       "    <tr>\n",
       "      <th>Male 5-17</th>\n",
       "      <td>-96.867795</td>\n",
       "      <td>1.410922e+08</td>\n",
       "      <td>5.111567e+08</td>\n",
       "      <td>1.507188e+08</td>\n",
       "      <td>5.596137e+08</td>\n",
       "    </tr>\n",
       "    <tr>\n",
       "      <th>M: Unknown</th>\n",
       "      <td>-4838.545679</td>\n",
       "      <td>5.168099e+08</td>\n",
       "      <td>3.503894e+09</td>\n",
       "      <td>5.596137e+08</td>\n",
       "      <td>3.667407e+09</td>\n",
       "    </tr>\n",
       "  </tbody>\n",
       "</table>\n",
       "</div>"
      ],
      "text/plain": [
       "                    Year   Female 5-17    F: Unknown     Male 5-17  \\\n",
       "Year           19.239786 -9.467167e+01 -4.554480e+03 -9.686779e+01   \n",
       "Female 5-17   -94.671668  1.320688e+08  4.718891e+08  1.410922e+08   \n",
       "F: Unknown  -4554.480117  4.718891e+08  3.344877e+09  5.111567e+08   \n",
       "Male 5-17     -96.867795  1.410922e+08  5.111567e+08  1.507188e+08   \n",
       "M: Unknown  -4838.545679  5.168099e+08  3.503894e+09  5.596137e+08   \n",
       "\n",
       "               M: Unknown  \n",
       "Year        -4.838546e+03  \n",
       "Female 5-17  5.168099e+08  \n",
       "F: Unknown   3.503894e+09  \n",
       "Male 5-17    5.596137e+08  \n",
       "M: Unknown   3.667407e+09  "
      ]
     },
     "execution_count": 18,
     "metadata": {},
     "output_type": "execute_result"
    }
   ],
   "source": [
    "#Covarianza de las mujeres que piden asilo entre 5 y 17 años\n",
    "an.cov()"
   ]
  },
  {
   "cell_type": "code",
   "execution_count": 19,
   "metadata": {},
   "outputs": [
    {
     "data": {
      "text/html": [
       "<div>\n",
       "<style scoped>\n",
       "    .dataframe tbody tr th:only-of-type {\n",
       "        vertical-align: middle;\n",
       "    }\n",
       "\n",
       "    .dataframe tbody tr th {\n",
       "        vertical-align: top;\n",
       "    }\n",
       "\n",
       "    .dataframe thead th {\n",
       "        text-align: right;\n",
       "    }\n",
       "</style>\n",
       "<table border=\"1\" class=\"dataframe\">\n",
       "  <thead>\n",
       "    <tr style=\"text-align: right;\">\n",
       "      <th></th>\n",
       "      <th>Year</th>\n",
       "      <th>Country / territory of asylum/residence</th>\n",
       "      <th>Location Name</th>\n",
       "      <th>Female 0-4</th>\n",
       "      <th>Female 5-11</th>\n",
       "      <th>Female 5-17</th>\n",
       "      <th>Female 12-17</th>\n",
       "      <th>Female 18-59</th>\n",
       "      <th>Female 60+</th>\n",
       "      <th>F: Unknown</th>\n",
       "      <th>F: Total</th>\n",
       "      <th>Male 0-4</th>\n",
       "      <th>Male 5-11</th>\n",
       "      <th>Male 5-17</th>\n",
       "      <th>Male 12-17</th>\n",
       "      <th>Male 18-59</th>\n",
       "      <th>Male 60+</th>\n",
       "      <th>M: Unknown</th>\n",
       "      <th>M: Total</th>\n",
       "    </tr>\n",
       "  </thead>\n",
       "  <tbody>\n",
       "    <tr>\n",
       "      <th>0</th>\n",
       "      <td>2001</td>\n",
       "      <td>Afghanistan</td>\n",
       "      <td>Kabul</td>\n",
       "      <td>0</td>\n",
       "      <td>NaN</td>\n",
       "      <td>1.0</td>\n",
       "      <td>NaN</td>\n",
       "      <td>1</td>\n",
       "      <td>0</td>\n",
       "      <td>0.0</td>\n",
       "      <td>2</td>\n",
       "      <td>0</td>\n",
       "      <td>NaN</td>\n",
       "      <td>0.0</td>\n",
       "      <td>NaN</td>\n",
       "      <td>2</td>\n",
       "      <td>0</td>\n",
       "      <td>0.0</td>\n",
       "      <td>2</td>\n",
       "    </tr>\n",
       "    <tr>\n",
       "      <th>1</th>\n",
       "      <td>2001</td>\n",
       "      <td>Afghanistan</td>\n",
       "      <td>Various</td>\n",
       "      <td>14335</td>\n",
       "      <td>NaN</td>\n",
       "      <td>45451.0</td>\n",
       "      <td>NaN</td>\n",
       "      <td>99880</td>\n",
       "      <td>19234</td>\n",
       "      <td>412004.0</td>\n",
       "      <td>590904</td>\n",
       "      <td>14716</td>\n",
       "      <td>NaN</td>\n",
       "      <td>47522.0</td>\n",
       "      <td>NaN</td>\n",
       "      <td>114965</td>\n",
       "      <td>13025</td>\n",
       "      <td>435492.0</td>\n",
       "      <td>625720</td>\n",
       "    </tr>\n",
       "    <tr>\n",
       "      <th>2</th>\n",
       "      <td>2001</td>\n",
       "      <td>Afghanistan</td>\n",
       "      <td>Herat</td>\n",
       "      <td>0</td>\n",
       "      <td>NaN</td>\n",
       "      <td>0.0</td>\n",
       "      <td>NaN</td>\n",
       "      <td>1</td>\n",
       "      <td>0</td>\n",
       "      <td>0.0</td>\n",
       "      <td>1</td>\n",
       "      <td>0</td>\n",
       "      <td>NaN</td>\n",
       "      <td>0.0</td>\n",
       "      <td>NaN</td>\n",
       "      <td>1</td>\n",
       "      <td>0</td>\n",
       "      <td>0.0</td>\n",
       "      <td>1</td>\n",
       "    </tr>\n",
       "    <tr>\n",
       "      <th>3</th>\n",
       "      <td>2001</td>\n",
       "      <td>Angola</td>\n",
       "      <td>Viana</td>\n",
       "      <td>484</td>\n",
       "      <td>NaN</td>\n",
       "      <td>1687.0</td>\n",
       "      <td>NaN</td>\n",
       "      <td>1282</td>\n",
       "      <td>43</td>\n",
       "      <td>0.0</td>\n",
       "      <td>3496</td>\n",
       "      <td>597</td>\n",
       "      <td>NaN</td>\n",
       "      <td>1645.0</td>\n",
       "      <td>NaN</td>\n",
       "      <td>787</td>\n",
       "      <td>34</td>\n",
       "      <td>0.0</td>\n",
       "      <td>3063</td>\n",
       "    </tr>\n",
       "    <tr>\n",
       "      <th>4</th>\n",
       "      <td>2001</td>\n",
       "      <td>Angola</td>\n",
       "      <td>Moxico</td>\n",
       "      <td>219</td>\n",
       "      <td>NaN</td>\n",
       "      <td>734.0</td>\n",
       "      <td>NaN</td>\n",
       "      <td>427</td>\n",
       "      <td>25</td>\n",
       "      <td>0.0</td>\n",
       "      <td>1405</td>\n",
       "      <td>226</td>\n",
       "      <td>NaN</td>\n",
       "      <td>711.0</td>\n",
       "      <td>NaN</td>\n",
       "      <td>139</td>\n",
       "      <td>15</td>\n",
       "      <td>0.0</td>\n",
       "      <td>1091</td>\n",
       "    </tr>\n",
       "  </tbody>\n",
       "</table>\n",
       "</div>"
      ],
      "text/plain": [
       "   Year Country / territory of asylum/residence Location Name Female 0-4  \\\n",
       "0  2001                             Afghanistan         Kabul          0   \n",
       "1  2001                             Afghanistan       Various      14335   \n",
       "2  2001                             Afghanistan         Herat          0   \n",
       "3  2001                                  Angola         Viana        484   \n",
       "4  2001                                  Angola        Moxico        219   \n",
       "\n",
       "  Female 5-11  Female 5-17 Female 12-17 Female 18-59 Female 60+  F: Unknown  \\\n",
       "0         NaN          1.0          NaN            1          0         0.0   \n",
       "1         NaN      45451.0          NaN        99880      19234    412004.0   \n",
       "2         NaN          0.0          NaN            1          0         0.0   \n",
       "3         NaN       1687.0          NaN         1282         43         0.0   \n",
       "4         NaN        734.0          NaN          427         25         0.0   \n",
       "\n",
       "  F: Total Male 0-4 Male 5-11  Male 5-17 Male 12-17 Male 18-59 Male 60+  \\\n",
       "0        2        0       NaN        0.0        NaN          2        0   \n",
       "1   590904    14716       NaN    47522.0        NaN     114965    13025   \n",
       "2        1        0       NaN        0.0        NaN          1        0   \n",
       "3     3496      597       NaN     1645.0        NaN        787       34   \n",
       "4     1405      226       NaN      711.0        NaN        139       15   \n",
       "\n",
       "   M: Unknown M: Total  \n",
       "0         0.0        2  \n",
       "1    435492.0   625720  \n",
       "2         0.0        1  \n",
       "3         0.0     3063  \n",
       "4         0.0     1091  "
      ]
     },
     "execution_count": 19,
     "metadata": {},
     "output_type": "execute_result"
    }
   ],
   "source": [
    "%matplotlib inline\n",
    "an.head()  "
   ]
  },
  {
   "cell_type": "markdown",
   "metadata": {},
   "source": [
    "### Graficas de matplotlib"
   ]
  },
  {
   "cell_type": "code",
   "execution_count": 35,
   "metadata": {},
   "outputs": [
    {
     "data": {
      "text/plain": [
       "<matplotlib.axes._subplots.AxesSubplot at 0x2063fbe0af0>"
      ]
     },
     "execution_count": 35,
     "metadata": {},
     "output_type": "execute_result"
    },
    {
     "data": {
      "image/png": "[encoded data removed]",
      "text/plain": [
       "<Figure size 432x288 with 1 Axes>"
      ]
     },
     "metadata": {
      "needs_background": "light"
     },
     "output_type": "display_data"
    }
   ],
   "source": [
    "an['Location Name'].value_counts().head(30).plot.bar()"
   ]
  },
  {
   "cell_type": "markdown",
   "metadata": {},
   "source": [
    "Con esta grafica, vemos 30 nombres lugares de donde la gente salio. Nos damos cuenta que sale mas gente de Goue Y Jakarta."
   ]
  },
  {
   "cell_type": "code",
   "execution_count": 23,
   "metadata": {},
   "outputs": [
    {
     "data": {
      "text/plain": [
       "<matplotlib.axes._subplots.AxesSubplot at 0x206299c8af0>"
      ]
     },
     "execution_count": 23,
     "metadata": {},
     "output_type": "execute_result"
    },
    {
     "data": {
      "image/png": "[encoded data removed]",
      "text/plain": [
       "<Figure size 432x288 with 1 Axes>"
      ]
     },
     "metadata": {
      "needs_background": "light"
     },
     "output_type": "display_data"
    }
   ],
   "source": [
    "an[an['Female 5-17'] < 100].plot.scatter(x='Female 5-17', y='Male 5-17')"
   ]
  },
  {
   "cell_type": "markdown",
   "metadata": {},
   "source": [
    "### Gráficas de seaborn"
   ]
  },
  {
   "cell_type": "code",
   "execution_count": 27,
   "metadata": {},
   "outputs": [
    {
     "data": {
      "text/plain": [
       "<seaborn.axisgrid.PairGrid at 0x206298a3580>"
      ]
     },
     "execution_count": 27,
     "metadata": {},
     "output_type": "execute_result"
    },
    {
     "data": {
      "image/png": "[encoded data removed]",
      "text/plain": [
       "<Figure size 720x720 with 20 Axes>"
      ]
     },
     "metadata": {
      "needs_background": "light"
     },
     "output_type": "display_data"
    }
   ],
   "source": [
    "sns.pairplot(an[['Male 5-17', 'Female 5-17', 'M: Unknown', 'F: Unknown']])"
   ]
  },
  {
   "cell_type": "markdown",
   "metadata": {},
   "source": [
    "Con estas graficas, vemos las 16 permutaciones entre las 4 variables que son male 5-17, female 5-17, m: unknown y f: unknown. Vemos como la correlacion entre todas es muy diferente y son pocas las que se ven un poco mas llenas las graficas. "
   ]
  },
  {
   "cell_type": "code",
   "execution_count": 28,
   "metadata": {},
   "outputs": [
    {
     "data": {
      "text/plain": [
       "<seaborn.axisgrid.JointGrid at 0x2062e9c7f10>"
      ]
     },
     "execution_count": 28,
     "metadata": {},
     "output_type": "execute_result"
    },
    {
     "data": {
      "image/png": "[encoded data removed]",
      "text/plain": [
       "<Figure size 432x432 with 3 Axes>"
      ]
     },
     "metadata": {
      "needs_background": "light"
     },
     "output_type": "display_data"
    }
   ],
   "source": [
    "sns.jointplot(x='Female 5-17', y='Male 5-17', data=an[an['Female 5-17'] < 100])"
   ]
  },
  {
   "cell_type": "markdown",
   "metadata": {},
   "source": [
    "En esta grafica, vemos la correlacion entre los masculos de entre 5 y 17 años contra las mujeres de entre 5 y 17 años. Nos damos cuenta que existen unos outliers. Pero tambien vemos las graficas de barras, de ambos datos. "
   ]
  }
 ],
 "metadata": {
  "kernelspec": {
   "display_name": "Python 3",
   "language": "python",
   "name": "python3"
  },
  "language_info": {
   "codemirror_mode": {
    "name": "ipython",
    "version": 3
   },
   "file_extension": ".py",
   "mimetype": "text/x-python",
   "name": "python",
   "nbconvert_exporter": "python",
   "pygments_lexer": "ipython3",
   "version": "3.8.3"
  }
 },
 "nbformat": 4,
 "nbformat_minor": 4
}

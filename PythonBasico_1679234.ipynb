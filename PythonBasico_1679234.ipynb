{
 "cells": [
  {
   "cell_type": "markdown",
   "metadata": {},
   "source": [
    "# Ejercicio 1"
   ]
  },
  {
   "cell_type": "markdown",
   "metadata": {},
   "source": [
    "Realiza una variable con tu matricula y realiza una secuencia de imprimir con tu nombre y tu matricula concatenados"
   ]
  },
  {
   "cell_type": "code",
   "execution_count": 116,
   "metadata": {},
   "outputs": [
    {
     "name": "stdout",
     "output_type": "stream",
     "text": [
      "Melany Salazar1679234\n"
     ]
    }
   ],
   "source": [
    "a = \"Melany Salazar\"\n",
    "matricula = 1679234\n",
    "\n",
    "print (a+str(matricula))"
   ]
  },
  {
   "cell_type": "markdown",
   "metadata": {},
   "source": [
    "# Ejercicio 2"
   ]
  },
  {
   "cell_type": "markdown",
   "metadata": {},
   "source": [
    "Pidiendo el input del usuario pide dos números y crea una pequeña calculadora con los operadores básicos de suma, resta, multiplicación, división, y exponente"
   ]
  },
  {
   "cell_type": "code",
   "execution_count": 118,
   "metadata": {},
   "outputs": [
    {
     "name": "stdout",
     "output_type": "stream",
     "text": [
      "Introduce el primer número: 1\n",
      "Introduce el segundo número: 2\n",
      "\n",
      "La suma de los dos numeros es:  3\n",
      "La resta de los dos numeros es:  -1\n",
      "La multiplicación de los dos numeros es:  2\n",
      "La división de los dos numeros es:  0.5\n",
      "La exponente de los dos numeros es:  1\n"
     ]
    }
   ],
   "source": [
    "a = int(input(\"Introduce el primer número: \"))\n",
    "b = int(input(\"Introduce el segundo número: \"))\n",
    "\n",
    "c = a+b\n",
    "d = a-b\n",
    "e = a*b\n",
    "f = a/b\n",
    "g = a**b\n",
    "\n",
    "print()\n",
    "print (\"La suma de los dos numeros es: \",c)\n",
    "print (\"La resta de los dos numeros es: \",d)\n",
    "print (\"La multiplicación de los dos numeros es: \",e)\n",
    "print (\"La división de los dos numeros es: \",f)\n",
    "print (\"La exponente de los dos numeros es: \",g)"
   ]
  },
  {
   "cell_type": "markdown",
   "metadata": {},
   "source": [
    "# Ejercicio 3"
   ]
  },
  {
   "cell_type": "markdown",
   "metadata": {},
   "source": [
    "Con loop while o for, realiza una lista de 10 numeros multiplos de 3, y después realiza una función de loop que sume todos los números dentro del arreglo."
   ]
  },
  {
   "cell_type": "code",
   "execution_count": 115,
   "metadata": {},
   "outputs": [
    {
     "name": "stdout",
     "output_type": "stream",
     "text": [
      "[3, 6, 9, 12, 15, 18, 21, 24, 27, 30]\n",
      "\n",
      "La suma de todos los numeros es:  165\n"
     ]
    }
   ],
   "source": [
    "cont = 0\n",
    "lista=[i*3 for i in range(1,11)]\n",
    "print (lista)\n",
    "    \n",
    "for i in range(len(lista)):\n",
    "    cont=cont+lista[i]\n",
    "\n",
    "print()\n",
    "print (\"La suma de todos los numeros es: \",cont)\n",
    "    "
   ]
  },
  {
   "cell_type": "markdown",
   "metadata": {},
   "source": [
    "# Ejercicio 4 (a)"
   ]
  },
  {
   "cell_type": "markdown",
   "metadata": {},
   "source": [
    "Con una función de if else, revisar si un número es par o es impar."
   ]
  },
  {
   "cell_type": "code",
   "execution_count": null,
   "metadata": {},
   "outputs": [],
   "source": [
    "a = int(input (\"Dame un número: \"))\n",
    "\n",
    "if a%2==0:\n",
    "    print()\n",
    "    print (\"El numero es par\")\n",
    "else: \n",
    "    print()\n",
    "    print (\"El numero es impar\")"
   ]
  },
  {
   "cell_type": "markdown",
   "metadata": {},
   "source": [
    "# Ejercicio 4 (b)"
   ]
  },
  {
   "cell_type": "markdown",
   "metadata": {},
   "source": [
    "Con una función de if else, revisar si un número es primo o no."
   ]
  },
  {
   "cell_type": "code",
   "execution_count": 35,
   "metadata": {},
   "outputs": [
    {
     "name": "stdout",
     "output_type": "stream",
     "text": [
      "Ingrese un valor a evaluar: 1\n",
      "El numero no es primo\n"
     ]
    }
   ],
   "source": [
    "num = int(input(\"Ingrese un numero: \"))\n",
    "cont = 0\n",
    "\n",
    "for n in range(1, num + 1):\n",
    "    if num%n == 0:\n",
    "    cont=cont+1\n",
    "\n",
    "if cont == 2:\n",
    "    print()\n",
    "    print(\"El numero si es primo\")\n",
    "else:\n",
    "    print()\n",
    "    print(\"El numero no es primo\")"
   ]
  },
  {
   "cell_type": "markdown",
   "metadata": {},
   "source": [
    "# Ejercicio 5"
   ]
  },
  {
   "cell_type": "markdown",
   "metadata": {},
   "source": [
    "Utilizando diferentes clases en python, crea una calculadora con los operadores básicos de suma, resta, multiplicación, división, y exponente"
   ]
  },
  {
   "cell_type": "code",
   "execution_count": 43,
   "metadata": {},
   "outputs": [
    {
     "name": "stdout",
     "output_type": "stream",
     "text": [
      "MENU\n",
      "\n",
      "1.Suma\n",
      "2.Resta\n",
      "3.Multiplicación\n",
      "4.División\n",
      "5.Exponente\n",
      "6.Salir\n",
      "¿Qué desea realizar?: 1\n",
      "Ingrese un numéro: 1\n",
      "Ingrese un segundo número: 1\n",
      "Suma =  2\n"
     ]
    }
   ],
   "source": [
    "def Suma(a,b):\n",
    "    c=a+b\n",
    "    return c\n",
    "def Resta(a,b):\n",
    "    c=a-b\n",
    "    return c\n",
    "def Multiplicacion(a,b):\n",
    "    c=a*b\n",
    "    return c\n",
    "def División(a,b):\n",
    "    c=a/b\n",
    "    return c\n",
    "def Exponente(a,b):\n",
    "    c=a**b\n",
    "    return c\n",
    "\n",
    "def Menu():  \n",
    "    print (\"MENU\\n\\n1.Suma\\n2.Resta\\n3.Multiplicación\\n4.División\\n5.Exponente\\n6.Salir\")\n",
    "def Calculadora():\n",
    "    Menu()\n",
    "    print()\n",
    "    opc = int(input(\"¿Qué desea realizar?: \"))\n",
    "    print()\n",
    "    a = int(input(\"Ingrese un numéro: \"))\n",
    "    b = int(input(\"Ingrese un segundo número: \"))\n",
    "    while (opc >0 and opc <6):\n",
    "        if (opc==1):\n",
    "            print()\n",
    "            print (\"Suma = \",Suma(a,b))\n",
    "            break\n",
    "        elif(opc==2):\n",
    "            print()\n",
    "            print (\"Resta =\",Resta(a,b))\n",
    "            break\n",
    "        elif(opc==3):\n",
    "            print()\n",
    "            print (\"Multiplicación =\", Multiplicacion(a,b))\n",
    "            break\n",
    "        elif(opc==4):\n",
    "            print()\n",
    "            print (\"División = \", Division(a,b))\n",
    "            break            \n",
    "        elif(opc==5):\n",
    "            print()\n",
    "            print (\"Exponente =\", Exponente(a,b))\n",
    "            break\n",
    "            \n",
    "Calculadora()"
   ]
  },
  {
   "cell_type": "markdown",
   "metadata": {},
   "source": [
    "# Tuplas"
   ]
  },
  {
   "cell_type": "markdown",
   "metadata": {},
   "source": [
    "Crear una variable flotante, integer, boleana y compleja e imprimir el tipo de variable que es."
   ]
  },
  {
   "cell_type": "code",
   "execution_count": 105,
   "metadata": {},
   "outputs": [
    {
     "name": "stdout",
     "output_type": "stream",
     "text": [
      "<class 'float'>\n",
      "<class 'int'>\n",
      "<class 'bool'>\n",
      "<class 'complex'>\n"
     ]
    }
   ],
   "source": [
    "flotante = 1.2\n",
    "integer = 12\n",
    "booleana = True\n",
    "compleja = 1+2j\n",
    "\n",
    "print()\n",
    "print(type(flotante))\n",
    "print(type(integer))\n",
    "print(type(booleana))\n",
    "print(type(compleja))\n"
   ]
  },
  {
   "cell_type": "markdown",
   "metadata": {},
   "source": [
    "Crear una tupla con valores enteros imprimir el primer y ultimo valor."
   ]
  },
  {
   "cell_type": "markdown",
   "metadata": {},
   "source": [
    "Añadir 3 valores de string a la tupla"
   ]
  },
  {
   "cell_type": "markdown",
   "metadata": {},
   "source": [
    "Verificar si una variable existe dentro de la tupla."
   ]
  },
  {
   "cell_type": "code",
   "execution_count": 111,
   "metadata": {},
   "outputs": [
    {
     "name": "stdout",
     "output_type": "stream",
     "text": [
      "Primer numero:  1\n",
      "Ultimo numero:  3\n",
      "\n",
      "(1, 4, 7, 3, 6, 9, 4, 2, 6, 8, 5, 2, 3, 5, 2, 5, 8, 5, 3, 'Hola', 'Melany', 'Hi')\n"
     ]
    },
    {
     "data": {
      "text/plain": [
       "True"
      ]
     },
     "execution_count": 111,
     "metadata": {},
     "output_type": "execute_result"
    }
   ],
   "source": [
    "a=[1,4,7,3,6,9,4,2,6,8,5,2,3,5,2,5,8,5,3]\n",
    "\n",
    "a=tuple(a)\n",
    "primernum = a[0]\n",
    "ultimonum = a [-1]\n",
    "\n",
    "print (\"Primer numero: \",primernum)\n",
    "print (\"Ultimo numero: \",ultimonum)\n",
    "\n",
    "print()\n",
    "print(a+('Hola','Melany','Hi'))\n",
    "\n",
    "6 in a\n"
   ]
  },
  {
   "cell_type": "markdown",
   "metadata": {},
   "source": [
    "# Listas"
   ]
  },
  {
   "cell_type": "markdown",
   "metadata": {},
   "source": [
    "Crear una lista con 40 elementos aleatorios enteros."
   ]
  },
  {
   "cell_type": "markdown",
   "metadata": {},
   "source": [
    "Con una funcion (def) crear dos listas nuevas a partir de la lista creada por numeros aleatorios, en la cual en una esten los elementos pares, y en la otra los elementos impares."
   ]
  },
  {
   "cell_type": "markdown",
   "metadata": {},
   "source": [
    "Crear dos variables con la longitud de ambas listas nuevas e imprimir las variables"
   ]
  },
  {
   "cell_type": "markdown",
   "metadata": {},
   "source": [
    "Ordenar los elementos de la lista par de mayor a menor, y los de la lista impar de menor a mayor."
   ]
  },
  {
   "cell_type": "markdown",
   "metadata": {},
   "source": [
    "Utilizar al menos cuatro de las funciones de listas en python en la lista original de 40 elementos."
   ]
  },
  {
   "cell_type": "code",
   "execution_count": 119,
   "metadata": {},
   "outputs": [
    {
     "name": "stdout",
     "output_type": "stream",
     "text": [
      "[15, 19, 19, 4, 8, 2, 16, 7, 11, 11, 19, 15, 15, 12, 4]\n",
      "\n",
      "Lista de números pares:  [4, 8, 2, 16, 12, 4]\n",
      "\n",
      "Lista de impares:  [15, 19, 19, 7, 11, 11, 19, 15, 15]\n",
      "\n",
      "Existe la longitud de pares:  6\n",
      "\n",
      "Existe la longitud de impares:  9\n",
      "\n",
      "[2, 19, 19, 4, 8, 2, 16, 7, 11, 11, 19, 15, 15, 12, 4]\n",
      "\n",
      "[8, 2, 16, 7]\n",
      "\n",
      "[2, 19, 19, 4, 3, 8, 2, 16, 7, 11, 11, 19, 15, 15, 12, 4]\n",
      "\n",
      "[2, 19, 19, 4, 3, 8, 2, 16, 7, 11, 11, 19, 15, 15, 12, 4, 5]\n"
     ]
    }
   ],
   "source": [
    "import random as r\n",
    "\n",
    "lista=[r.randint(1,20) for i in range(15)]\n",
    "print (lista)\n",
    "\n",
    "def NumParImp(lista):\n",
    "    impares=[]\n",
    "    pares=[]\n",
    "    for i in range(len(lista)):\n",
    "        if lista[i]%2==0:\n",
    "            pares.append(lista[i])\n",
    "        else:\n",
    "            impares.append(lista[i])\n",
    "    return pares,impares\n",
    "\n",
    "pares,impares=NumParImp(lista)\n",
    "print()\n",
    "print(\"Lista de números pares: \",pares)\n",
    "print()\n",
    "print(\"Lista de impares: \",impares)\n",
    "\n",
    "par=len(pares)\n",
    "print ()\n",
    "print (\"Existe la longitud de pares: \", par)\n",
    "\n",
    "impar=len(impares)\n",
    "print()\n",
    "print (\"Existe la longitud de impares: \", impar)\n",
    "\n",
    "# Cambiar el primer numero por 2\n",
    "lista[0]=2\n",
    "print()\n",
    "print (lista)\n",
    "\n",
    "# Imprimir los numeros indicados (recordar que python cuenta desde 0)\n",
    "print()\n",
    "print (lista[4:8])\n",
    "\n",
    "# Insertar un nuevo dato a la lista (numero en que va, el numero que quieres agregar)\n",
    "print()\n",
    "lista.insert(4,3)\n",
    "print (lista)\n",
    "\n",
    "# Agregar un nuevo dato al final de la lista\n",
    "print()\n",
    "lista.append(5)\n",
    "print (lista)"
   ]
  },
  {
   "cell_type": "markdown",
   "metadata": {},
   "source": [
    "# Diccionarios"
   ]
  },
  {
   "cell_type": "markdown",
   "metadata": {},
   "source": [
    "Crear un diccionario de 6 personas que conozcas con su primer nombre y su edad."
   ]
  },
  {
   "cell_type": "markdown",
   "metadata": {},
   "source": [
    "Crear una lista con los valores de la edad y reacomodar la lista de menor a mayor valor"
   ]
  },
  {
   "cell_type": "markdown",
   "metadata": {},
   "source": [
    "Usando el diccionario y un loop, imprimir solo los nombres"
   ]
  },
  {
   "cell_type": "markdown",
   "metadata": {},
   "source": [
    "Añadir dos personas nuevas a tu diccionario, incluyendo edad"
   ]
  },
  {
   "cell_type": "code",
   "execution_count": 80,
   "metadata": {},
   "outputs": [
    {
     "name": "stdout",
     "output_type": "stream",
     "text": [
      "[18, 44, 25, 48, 21, 23]\n",
      "\n",
      "[18, 21, 23, 25, 44, 48]\n",
      "\n",
      "Melissa\n",
      "María\n",
      "Aimee\n",
      "Gabriel\n",
      "Joaquin\n",
      "Adriana\n",
      "\n",
      "{'Melissa': 18, 'María': 44, 'Aimee': 25, 'Gabriel': 48, 'Joaquin': 21, 'Adriana': 23, 'Melany': 23, 'Mariann': 25}\n"
     ]
    }
   ],
   "source": [
    "dicc ={\"Melissa\":18,\"María\":44,\"Aimee\":25,\"Gabriel\":48,\"Joaquin\":21,\"Adriana\":23}\n",
    "\n",
    "edad = [i for i in dicc.values()]\n",
    "print (edad)\n",
    "\n",
    "print()\n",
    "edad.sort()\n",
    "print (edad)\n",
    "\n",
    "print()\n",
    "for i in dicc:\n",
    "    print (i)\n",
    "    \n",
    "print()\n",
    "dicc[\"Melany\"]=23\n",
    "dicc[\"Mariann\"]=25\n",
    "\n",
    "print (dicc)\n"
   ]
  },
  {
   "cell_type": "markdown",
   "metadata": {},
   "source": [
    "# Sets"
   ]
  },
  {
   "cell_type": "markdown",
   "metadata": {},
   "source": [
    "Crea un set con 100 numeros aleatorios enteros del 1 al 25."
   ]
  },
  {
   "cell_type": "markdown",
   "metadata": {},
   "source": [
    "Comprueba la longitud de tu set"
   ]
  },
  {
   "cell_type": "markdown",
   "metadata": {},
   "source": [
    "Crea una lista de 5 numeros aleatorios del 1 al 10 y comprueba si cada valor aparece en el set inicial."
   ]
  },
  {
   "cell_type": "code",
   "execution_count": 92,
   "metadata": {},
   "outputs": [
    {
     "name": "stdout",
     "output_type": "stream",
     "text": [
      "{1, 2, 3, 4, 5, 6, 7, 8, 9, 10, 11, 12, 13, 14, 15, 16, 17, 18, 19, 20, 21, 22, 23, 24, 25}\n",
      "\n",
      "25\n",
      "\n",
      "[4, 5, 3, 6, 8]\n",
      "\n",
      "Existe:  4 True\n",
      "Existe:  5 True\n",
      "Existe:  3 True\n",
      "Existe:  6 True\n",
      "Existe:  8 True\n"
     ]
    }
   ],
   "source": [
    "import random as r\n",
    "\n",
    "a={r.randint(1,25) for i in range(100)}\n",
    "print (a)    \n",
    "\n",
    "print()\n",
    "print (len (a))\n",
    "\n",
    "print()\n",
    "b=[r.randint(1,10) for i in range(5)]\n",
    "print (b)\n",
    "\n",
    "print()\n",
    "for i in range(len(b)):\n",
    "    print(\"Existe: \", b[i], b[i] in a)\n",
    "\n",
    "\n"
   ]
  }
 ],
 "metadata": {
  "kernelspec": {
   "display_name": "Python 3",
   "language": "python",
   "name": "python3"
  },
  "language_info": {
   "codemirror_mode": {
    "name": "ipython",
    "version": 3
   },
   "file_extension": ".py",
   "mimetype": "text/x-python",
   "name": "python",
   "nbconvert_exporter": "python",
   "pygments_lexer": "ipython3",
   "version": "3.8.3"
  }
 },
 "nbformat": 4,
 "nbformat_minor": 4
}
